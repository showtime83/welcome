{
 "cells": [
  {
   "cell_type": "code",
   "execution_count": 1,
   "id": "bd61f67a",
   "metadata": {},
   "outputs": [],
   "source": [
    "from selenium import webdriver\n",
    "from selenium.webdriver.support.ui import Select\n",
    "from selenium.webdriver.support.ui import WebDriverWait\n",
    "from selenium.webdriver.support import expected_conditions as EC\n",
    "from selenium.webdriver.common.by import By\n",
    "from time import sleep\n",
    "from bs4 import BeautifulSoup\n",
    "import pandas as pd\n",
    "import uuid\n",
    "from tqdm import tqdm\n",
    "\n",
    "from copy import copy"
   ]
  },
  {
   "cell_type": "code",
   "execution_count": 34,
   "id": "4480cb33",
   "metadata": {},
   "outputs": [],
   "source": [
    "class land_plus :\n",
    "    \n",
    "    def __init__(self) :\n",
    "        \n",
    "        self.driver = webdriver.Chrome(\"C:/Users/dlrkd/OneDrive/Desktop/연습/크롤링/chromedriver_win32/chromedriver\")\n",
    "        self.url = \"http://www.eum.go.kr/web/am/amMain.jsp\"\n",
    "        self.driver.get(self.url)\n",
    "        self.label = self.label_condition()\n",
    "            \n",
    "    def label_condition(self) :\n",
    "        \n",
    "        label_menu = []\n",
    "        label = WebDriverWait(self.driver, 0.3).until(EC.presence_of_element_located((By.CLASS_NAME, \"schtop\")))\n",
    "        for i in label.find_elements_by_tag_name(\"span\") :\n",
    "             label_menu.append(i.text)\n",
    "        return label_menu\n",
    "        \n",
    "    def label_box(self, label) :  \n",
    "        \n",
    "        if label == '토지이용계획' :\n",
    "                menu_1 = WebDriverWait(self.driver, 0.3).until(EC.presence_of_element_located((By.CLASS_NAME, \"schtop\"))).find_element_by_tag_name(\"span\")\n",
    "                menu_1.click()\n",
    "        else :\n",
    "            menu_2 = WebDriverWait(self.driver, 0.3).until(EC.presence_of_element_located((By.CLASS_NAME, \"schtop\"))).find_element_by_tag_name(\"span\")\n",
    "            menu_2.click()\n",
    "\n",
    "    def search_adrress(self, city, gu, dong, detail_adrress) :\n",
    "        \n",
    "        input_adrress = city+gu+dong+detail_adrress\n",
    "        \n",
    "        adrress_spt = detail_adrress.split(\"-\")\n",
    "        adrress_f = adrress_spt[0]\n",
    "        adrress_s = adrress_spt[1]\n",
    "        \n",
    "        search_bar = WebDriverWait(self.driver, 0.3).until(EC.presence_of_element_located((By.ID, \"recent\"))).find_element_by_tag_name(\"input\")\n",
    "        search_bar.send_keys(input_adrress)\n",
    "        \n",
    "        city_ele = WebDriverWait(self.driver, 0.3).until(EC.presence_of_element_located((By.ID, \"selSido\")))\n",
    "        city_menu = Select(city_ele)\n",
    "        sleep(0.3)\n",
    "        city_menu.select_by_visible_text(city)\n",
    "        \n",
    "        gu_ele = WebDriverWait(self.driver, 0.3).until(EC.presence_of_element_located((By.ID, \"selSgg\")))\n",
    "        gu_menu = Select(gu_ele)\n",
    "        sleep(0.3)\n",
    "        gu_menu.select_by_visible_text(gu)\n",
    "        \n",
    "        dong_ele = WebDriverWait(self.driver, 0.3).until(EC.presence_of_element_located((By.ID, \"selUmd\")))\n",
    "        dong_menu = Select(dong_ele)\n",
    "        sleep(0.3)\n",
    "        dong_menu.select_by_visible_text(dong)\n",
    "        \n",
    "        detail_adrress_bar_f = WebDriverWait(self.driver, 0.3).until(EC.presence_of_element_located((By.ID, \"bobn\")))\n",
    "        detail_adrress_bar_f.send_keys(adrress_f)\n",
    "        detail_adrress_bar_s = WebDriverWait(self.driver, 0.3).until(EC.presence_of_element_located((By.ID, \"bubn\")))\n",
    "        detail_adrress_bar_s.send_keys(adrress_s)\n",
    "        \n",
    "        button = WebDriverWait(self.driver, 0.3).until(EC.presence_of_element_located((By.CLASS_NAME, \"schbottom\"))).find_element_by_class_name(\"see\")\n",
    "        button.click()\n",
    "        \n",
    "    def land_plan_crawler(self) :\n",
    "        land_plan_table = WebDriverWait(self.driver, 0.3).until(EC.presence_of_element_located((By.CLASS_NAME, \"con_center\")))                                                                                        \n",
    "        land_plan_table_html = land_plan_table.get_attribute(\"innerHTML\")\n",
    "        land_plan_table_bs = BeautifulSoup(land_plan_table_html, \"html.parser\")\n",
    "        \n",
    "        data_raw = {}\n",
    "        for tr in land_plan_table_bs.find_all(\"tr\") :\n",
    "            col = tr.find(\"th\", {\"scope\" : \"row\"}).text\n",
    "            value = tr.find(\"td\").text\n",
    "            data_raw[col] = value\n",
    "#         data = pd.DataFrame(data_raw)\n",
    "        return data"
   ]
  },
  {
   "cell_type": "code",
   "execution_count": 35,
   "id": "98dc5d6b",
   "metadata": {},
   "outputs": [],
   "source": [
    "crawler = land_plus()"
   ]
  },
  {
   "cell_type": "code",
   "execution_count": 36,
   "id": "fe898280",
   "metadata": {},
   "outputs": [],
   "source": [
    "crawler.search_adrress(\"서울특별시\",\"강남구\",\"신사동\",\"589-2\")"
   ]
  },
  {
   "cell_type": "code",
   "execution_count": 37,
   "id": "ae9e38d6",
   "metadata": {
    "scrolled": true
   },
   "outputs": [
    {
     "ename": "AttributeError",
     "evalue": "'NoneType' object has no attribute 'text'",
     "output_type": "error",
     "traceback": [
      "\u001b[1;31m---------------------------------------------------------------------------\u001b[0m",
      "\u001b[1;31mAttributeError\u001b[0m                            Traceback (most recent call last)",
      "\u001b[1;32m<ipython-input-37-ef2a397cfd1d>\u001b[0m in \u001b[0;36m<module>\u001b[1;34m\u001b[0m\n\u001b[1;32m----> 1\u001b[1;33m \u001b[0mcrawler\u001b[0m\u001b[1;33m.\u001b[0m\u001b[0mland_plan_crawler\u001b[0m\u001b[1;33m(\u001b[0m\u001b[1;33m)\u001b[0m\u001b[1;33m\u001b[0m\u001b[1;33m\u001b[0m\u001b[0m\n\u001b[0m",
      "\u001b[1;32m<ipython-input-34-79dea839062f>\u001b[0m in \u001b[0;36mland_plan_crawler\u001b[1;34m(self)\u001b[0m\n\u001b[0;32m     67\u001b[0m         \u001b[1;32mfor\u001b[0m \u001b[0mtr\u001b[0m \u001b[1;32min\u001b[0m \u001b[0mland_plan_table_bs\u001b[0m\u001b[1;33m.\u001b[0m\u001b[0mfind_all\u001b[0m\u001b[1;33m(\u001b[0m\u001b[1;34m\"tr\"\u001b[0m\u001b[1;33m)\u001b[0m \u001b[1;33m:\u001b[0m\u001b[1;33m\u001b[0m\u001b[1;33m\u001b[0m\u001b[0m\n\u001b[0;32m     68\u001b[0m             \u001b[0mcol\u001b[0m \u001b[1;33m=\u001b[0m \u001b[0mtr\u001b[0m\u001b[1;33m.\u001b[0m\u001b[0mfind\u001b[0m\u001b[1;33m(\u001b[0m\u001b[1;34m\"th\"\u001b[0m\u001b[1;33m,\u001b[0m \u001b[1;33m{\u001b[0m\u001b[1;34m\"scope\"\u001b[0m \u001b[1;33m:\u001b[0m \u001b[1;34m\"row\"\u001b[0m\u001b[1;33m}\u001b[0m\u001b[1;33m)\u001b[0m\u001b[1;33m.\u001b[0m\u001b[0mtext\u001b[0m\u001b[1;33m\u001b[0m\u001b[1;33m\u001b[0m\u001b[0m\n\u001b[1;32m---> 69\u001b[1;33m             \u001b[0mvalue\u001b[0m \u001b[1;33m=\u001b[0m \u001b[0mtr\u001b[0m\u001b[1;33m.\u001b[0m\u001b[0mfind\u001b[0m\u001b[1;33m(\u001b[0m\u001b[1;34m\"td\"\u001b[0m\u001b[1;33m)\u001b[0m\u001b[1;33m.\u001b[0m\u001b[0mtext\u001b[0m\u001b[1;33m\u001b[0m\u001b[1;33m\u001b[0m\u001b[0m\n\u001b[0m\u001b[0;32m     70\u001b[0m             \u001b[0mdata_raw\u001b[0m\u001b[1;33m[\u001b[0m\u001b[0mcol\u001b[0m\u001b[1;33m]\u001b[0m \u001b[1;33m=\u001b[0m \u001b[0mvalue\u001b[0m\u001b[1;33m\u001b[0m\u001b[1;33m\u001b[0m\u001b[0m\n\u001b[0;32m     71\u001b[0m \u001b[1;31m#         data = pd.DataFrame(data_raw)\u001b[0m\u001b[1;33m\u001b[0m\u001b[1;33m\u001b[0m\u001b[1;33m\u001b[0m\u001b[0m\n",
      "\u001b[1;31mAttributeError\u001b[0m: 'NoneType' object has no attribute 'text'"
     ]
    }
   ],
   "source": [
    "crawler.land_plan_crawler()"
   ]
  },
  {
   "cell_type": "code",
   "execution_count": null,
   "id": "5b1e7bdf",
   "metadata": {},
   "outputs": [],
   "source": []
  },
  {
   "cell_type": "code",
   "execution_count": null,
   "id": "e465fc27",
   "metadata": {},
   "outputs": [],
   "source": []
  }
 ],
 "metadata": {
  "kernelspec": {
   "display_name": "Python 3",
   "language": "python",
   "name": "python3"
  },
  "language_info": {
   "codemirror_mode": {
    "name": "ipython",
    "version": 3
   },
   "file_extension": ".py",
   "mimetype": "text/x-python",
   "name": "python",
   "nbconvert_exporter": "python",
   "pygments_lexer": "ipython3",
   "version": "3.8.8"
  },
  "toc": {
   "base_numbering": 1,
   "nav_menu": {},
   "number_sections": true,
   "sideBar": true,
   "skip_h1_title": false,
   "title_cell": "Table of Contents",
   "title_sidebar": "Contents",
   "toc_cell": false,
   "toc_position": {},
   "toc_section_display": true,
   "toc_window_display": false
  }
 },
 "nbformat": 4,
 "nbformat_minor": 5
}
